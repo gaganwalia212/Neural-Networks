{
 "cells": [
  {
   "cell_type": "markdown",
   "id": "dc2f07e5",
   "metadata": {},
   "source": [
    "# multilayered perceptrons\n",
    "creating a neural networkd having\n",
    "\n",
    "input-2 parametes\n",
    "output-2 parameters\n",
    "2 hidden layers with 4 and 3 neurons respectively"
   ]
  },
  {
   "cell_type": "code",
   "execution_count": 1,
   "id": "7e6235c0",
   "metadata": {},
   "outputs": [],
   "source": [
    "import numpy as np\n",
    "import matplotlib.pyplot as plt\n"
   ]
  },
  {
   "cell_type": "code",
   "execution_count": 2,
   "id": "afaf5309",
   "metadata": {},
   "outputs": [],
   "source": [
    "def sigmoid(x):\n",
    "    return 1/(1+np.exp(-x))"
   ]
  },
  {
   "cell_type": "code",
   "execution_count": 3,
   "id": "9240e9b8",
   "metadata": {},
   "outputs": [],
   "source": [
    "def softmax(a):\n",
    "    exp_a=np.exp(a)\n",
    "    exp_sum=np.sum(exp_a,axis=1,keepdims=True)\n",
    "    return exp_a/exp_sum\n",
    "    "
   ]
  },
  {
   "cell_type": "code",
   "execution_count": 4,
   "id": "f535fa51",
   "metadata": {},
   "outputs": [],
   "source": [
    "input_size=2\n",
    "output_size=2\n",
    "hidden=[4,3]"
   ]
  },
  {
   "cell_type": "code",
   "execution_count": 12,
   "id": "e1370b7c",
   "metadata": {},
   "outputs": [],
   "source": [
    "class NeuralNetwork:\n",
    "    def __init__(self,input_size,output_size,hidden):\n",
    "        model={}# dictionary\n",
    "        \"\"\"\n",
    "        input layer--(W1,B1)-->layer1--(W2,B2)-->layer2--(W3,B3)-->output layer\n",
    "        \"\"\"\n",
    "        \n",
    "        # from input layer to layer 1\n",
    "        model['W1']=np.random.randn(input_size,hidden[0])\n",
    "        model['B1']=np.random.randn(1,hidden[0])\n",
    "        \n",
    "        # from layer 1 to layer 2\n",
    "        model['W2']=np.random.randn(hidden[0],hidden[1])\n",
    "        model['B2']=np.random.randn(1,hidden[1])\n",
    "        \n",
    "        # from  layer 2 to output layer\n",
    "        model['W3']=np.random.randn(hidden[1],output_size)\n",
    "        model['B3']=np.random.randn(1,output_size)\n",
    "        \n",
    "        \"\"\"\n",
    "        for x in model:\n",
    "            print(x,model[x].shape)\n",
    "        \"\"\"\n",
    "        self.model=model\n",
    "    def forward_propagation(self,X):\n",
    "        \"\"\"\n",
    "        X--> Matrix of size m X n where m is the no of examples and n=input_size\n",
    "        \"\"\"\n",
    "        model=self.model\n",
    "        W1,W2,W3=model['W1'],model['W2'],model['W3']\n",
    "        b1,b2,b3=model['B1'],model['B2'],model['B3']\n",
    "        \n",
    "        z1=np.dot(X,W1)+b1\n",
    "        a1=sigmoid(z1)\n",
    "        \n",
    "        z2=np.dot(z1,W2)+b2\n",
    "        a2=sigmoid(z2)\n",
    "        \n",
    "        z3=np.dot(z2,W3)+b3\n",
    "        a3=softmax(z3)\n",
    "        #print(a3)\n",
    "        #print(a3.sum(axis=1))\n",
    "        self.activations=(a1,a1,a3)\n",
    "        return a3\n",
    "        \n",
    "    def backward_propagation(self,x,y,learning_rate=0.001):\n",
    "        model=self.model\n",
    "        W1,W2,W3=model['W1'],model['W2'],model['W3']\n",
    "        b1,b2,b3=model['B1'],model['B2'],model['B3']\n",
    "        (a1,a2,a3)=self.activations\n",
    "        \n",
    "        m=x.shape[0]\n",
    "        \n",
    "        delta3=a3-y\n",
    "        dw3=np.dot(a2.T,delta3)\n",
    "        db3=np.sum(delta3,axis=0)/m\n",
    "        \n",
    "        delta2=np.dot(delta3,W3.T)*a2*(1-a2)\n",
    "        dw2=np.dot(a1.T,delta2)\n",
    "        db2=np.sum(delta2,axis=0)/m\n",
    "        \n",
    "        \n",
    "        delta1=np.dot(delta2,W2.T)*a1*(1-a1)\n",
    "        dw1=np.dot(x.T,delta1)\n",
    "        db1=np.sum(delta1,axis=0)/m\n",
    "        \n",
    "        # update\n",
    "        model[\"W3\"]-=learning_rate*dw3\n",
    "        model[\"B3\"]-=learning_rate*db3\n",
    "        \n",
    "        model[\"W2\"]-=learning_rate*dw2\n",
    "        model[\"B2\"]-=learning_rate*db2\n",
    "        \n",
    "        model[\"W1\"]-=learning_rate*dw1\n",
    "        model[\"B1\"]-=learning_rate*db1\n",
    "\n",
    "\n",
    "    def predict(x):\n",
    "        y_=self.forward_propagation(x)\n",
    "        return np.argmax(x,axis=1);\n",
    "        \n",
    "        \n",
    "\n",
    "        "
   ]
  },
  {
   "cell_type": "code",
   "execution_count": 6,
   "id": "19c49139",
   "metadata": {},
   "outputs": [],
   "source": [
    "myModel=NeuralNetwork(input_size,output_size,hidden)"
   ]
  },
  {
   "cell_type": "code",
   "execution_count": 7,
   "id": "3d92f06f",
   "metadata": {},
   "outputs": [
    {
     "name": "stdout",
     "output_type": "stream",
     "text": [
      "[[5.00000000e-01 5.00000000e-01]\n",
      " [4.53978687e-05 9.99954602e-01]\n",
      " [7.75369053e-96 1.00000000e+00]\n",
      " [1.23394576e-04 9.99876605e-01]]\n",
      "[1. 1. 1. 1.]\n"
     ]
    }
   ],
   "source": [
    "x=np.array([[10,10],[10,20],[11,230],[1,10]])\n",
    "print(softmax(x))\n",
    "print(np.sum(softmax(x),axis=1))\n",
    "        "
   ]
  },
  {
   "cell_type": "code",
   "execution_count": 8,
   "id": "a59b9956",
   "metadata": {},
   "outputs": [
    {
     "name": "stdout",
     "output_type": "stream",
     "text": [
      "[[9.99993921e-01 6.07890940e-06]\n",
      " [1.00000000e+00 2.00806107e-11]\n",
      " [1.00000000e+00 6.63323712e-17]]\n"
     ]
    }
   ],
   "source": [
    "x=np.array([[1,2],[3,4],[5,6]])\n",
    "myModel.forward_propagation(x)"
   ]
  },
  {
   "cell_type": "code",
   "execution_count": 9,
   "id": "bb02cb6a",
   "metadata": {},
   "outputs": [
    {
     "name": "stdout",
     "output_type": "stream",
     "text": [
      "[[1 2]\n",
      " [3 4]\n",
      " [5 6]]\n"
     ]
    }
   ],
   "source": [
    "print(x)"
   ]
  },
  {
   "cell_type": "code",
   "execution_count": null,
   "id": "83eeb9be",
   "metadata": {},
   "outputs": [],
   "source": []
  },
  {
   "cell_type": "code",
   "execution_count": null,
   "id": "dd142dcf",
   "metadata": {},
   "outputs": [],
   "source": []
  }
 ],
 "metadata": {
  "kernelspec": {
   "display_name": "Python 3 (ipykernel)",
   "language": "python",
   "name": "python3"
  },
  "language_info": {
   "codemirror_mode": {
    "name": "ipython",
    "version": 3
   },
   "file_extension": ".py",
   "mimetype": "text/x-python",
   "name": "python",
   "nbconvert_exporter": "python",
   "pygments_lexer": "ipython3",
   "version": "3.9.6"
  }
 },
 "nbformat": 4,
 "nbformat_minor": 5
}
