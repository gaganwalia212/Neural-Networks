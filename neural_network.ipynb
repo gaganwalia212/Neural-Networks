{
 "cells": [
  {
   "cell_type": "markdown",
   "id": "b4e685a7",
   "metadata": {},
   "source": [
    "# multilayered perceptrons\n",
    "creating a neural networkd having\n",
    "\n",
    "input-2 parametes\n",
    "output-2 parameters\n",
    "2 hidden layers with 4 and 3 neurons respectively"
   ]
  },
  {
   "cell_type": "code",
   "execution_count": 2,
   "id": "1e7fdc3f",
   "metadata": {},
   "outputs": [],
   "source": [
    "import numpy as np\n",
    "import matplotlib.pyplot as plt\n"
   ]
  },
  {
   "cell_type": "code",
   "execution_count": 4,
   "id": "c68c8116",
   "metadata": {},
   "outputs": [],
   "source": [
    "input_size=2\n",
    "output_size=2\n",
    "hidden=[4,3]"
   ]
  },
  {
   "cell_type": "code",
   "execution_count": 15,
   "id": "d47b91f1",
   "metadata": {},
   "outputs": [],
   "source": [
    "class NeuralNetwork:\n",
    "    def __init__(self,input_size,output_size,hidden):\n",
    "        model={}# dictionary\n",
    "        \"\"\"\n",
    "        input layer--(W1,B1)-->layer1--(W2,B2)-->layer2--(W3,B3)-->output layer\n",
    "        \"\"\"\n",
    "        \n",
    "        # from input layer to layer 1\n",
    "        model['W1']=np.random.randn(input,hidden[0])\n",
    "        model['B1']=np.random.randn(1,hidden[0])\n",
    "        \n",
    "        # from layer 1 to layer 2\n",
    "        model['W2']=np.random.randn(hidden[0],hidden[1])\n",
    "        model['B2']=np.random.randn(1,hidden[1])\n",
    "        \n",
    "        # from  layer 2 to output layer\n",
    "        model['W3']=np.random.randn(hidden[1],output)\n",
    "        model['B3']=np.random.randn(output)\n",
    "        \"\"\"\n",
    "        for x in model:\n",
    "            print(x,model[x].shape)\n",
    "        \"\"\"\n",
    "        \n",
    "        self.model=model\n",
    "        \n",
    "        "
   ]
  },
  {
   "cell_type": "code",
   "execution_count": 16,
   "id": "8ef1d566",
   "metadata": {},
   "outputs": [],
   "source": [
    "myModel=NeuralNetwork(input_size,output_size,hidden)"
   ]
  },
  {
   "cell_type": "code",
   "execution_count": null,
   "id": "14de91fc",
   "metadata": {},
   "outputs": [],
   "source": []
  }
 ],
 "metadata": {
  "kernelspec": {
   "display_name": "Python 3 (ipykernel)",
   "language": "python",
   "name": "python3"
  },
  "language_info": {
   "codemirror_mode": {
    "name": "ipython",
    "version": 3
   },
   "file_extension": ".py",
   "mimetype": "text/x-python",
   "name": "python",
   "nbconvert_exporter": "python",
   "pygments_lexer": "ipython3",
   "version": "3.9.6"
  }
 },
 "nbformat": 4,
 "nbformat_minor": 5
}
