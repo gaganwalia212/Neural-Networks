{
 "cells": [
  {
   "cell_type": "code",
   "execution_count": 299,
   "id": "313b05cf",
   "metadata": {},
   "outputs": [],
   "source": [
    "import numpy as np\n",
    "import pandas as pd\n",
    "import neural_network as nn\n",
    "import matplotlib.pyplot as plt"
   ]
  },
  {
   "cell_type": "code",
   "execution_count": 300,
   "id": "77e8fb2c",
   "metadata": {},
   "outputs": [],
   "source": [
    "data_addresses=[\"Datasets/tweets/train.csv\"]"
   ]
  },
  {
   "cell_type": "code",
   "execution_count": 301,
   "id": "49a9634e",
   "metadata": {},
   "outputs": [],
   "source": [
    "class FileReader:\n",
    "    def __init__(self,data_addresses):\n",
    "        '''\n",
    "        data_addresses is the list of addresses of files from where you want to read the data\n",
    "        =======\n",
    "        Format:\n",
    "        =======\n",
    "        sentence \\t score \\n\n",
    "        '''\n",
    "        self.data_addresses=data_addresses\n",
    "\n",
    "    def read_data(self):\n",
    "        data=np.empty((0,2))\n",
    "        for add in self.data_addresses:\n",
    "            df=pd.read_csv(add)\n",
    "            df=df.iloc[:,1:]#ignore the id column\n",
    "            \n",
    "            data=np.concatenate((data,np.array(df)))\n",
    "        data[:,[0,1]]=data[:,[1,0]]\n",
    "        return data\n",
    "\n",
    "    def get_vocabulary(self,data):\n",
    "        self.word_to_number={}\n",
    "        index=0\n",
    "        for str in data[:,0]:\n",
    "            for word in str.split():\n",
    "                if not(word in word_to_number):\n",
    "                    word_to_number[word]=index\n",
    "                    index+=1\n",
    "\n",
    "        self.number_to_word=dict((v,k) for k,v in word_to_number.items())\n",
    "\n",
    "    def vectorize(self,data):\n",
    "        converted_data=np.zeros((data.shape[0],self.total_words+1),dtype=np.bool8)# last entry for the label\n",
    "        print(converted_data.shape)\n",
    "        for i in range(data.shape[0]):\n",
    "            for word in data[i][0].split():\n",
    "                converted_data[i][word_to_number[word]]=1\n",
    "            converted_data[i][-1]=data[i][1]#correct label\n",
    "        return converted_data\n",
    "\n",
    "    def generate_data(self,split=0.8):\n",
    "        data=self.read_data()\n",
    "        self.get_vocabulary(data)\n",
    "        self.total_words=len(word_to_number)\n",
    "        self.data=self.vectorize(data)\n",
    "        split=int(split*self.data.shape[0])\n",
    "        self.x_train=self.data[0:split,:-1]\n",
    "        self.x_test=self.data[split:,:-1]\n",
    "        self.y_train=self.data[0:split,-1]\n",
    "        self.y_test=self.data[split:,-1]\n",
    "\n",
    "    "
   ]
  },
  {
   "cell_type": "code",
   "execution_count": 302,
   "id": "a86d4114",
   "metadata": {},
   "outputs": [
    {
     "name": "stdout",
     "output_type": "stream",
     "text": [
      "(31962, 105531)\n"
     ]
    }
   ],
   "source": [
    "fr=FileReader(data_addresses)\n",
    "fr.generate_data()\n"
   ]
  },
  {
   "cell_type": "code",
   "execution_count": 303,
   "id": "8815f993",
   "metadata": {},
   "outputs": [
    {
     "name": "stdout",
     "output_type": "stream",
     "text": [
      "(25569, 105530)\n",
      "(25569,)\n",
      "(6393, 105530)\n",
      "(6393,)\n"
     ]
    }
   ],
   "source": [
    "\n",
    "print(fr.x_train.shape)\n",
    "print(fr.y_train.shape)\n",
    "print(fr.x_test.shape)\n",
    "print(fr.y_test.shape)"
   ]
  },
  {
   "cell_type": "code",
   "execution_count": 304,
   "id": "fd1e2518",
   "metadata": {},
   "outputs": [
    {
     "name": "stdout",
     "output_type": "stream",
     "text": [
      "(12784, 105530)\n",
      "(12784,)\n",
      "(12784, 105530)\n",
      "(12784,)\n"
     ]
    }
   ],
   "source": [
    "x_train=fr.x_train\n",
    "y_train=fr.y_train\n",
    "x_test=fr.x_test\n",
    "y_test=fr.y_test\n",
    "\n",
    "# also make one validaiton set from x_train\n",
    "split=int(x_train.shape[0]*0.5)\n",
    "x_valid,y_valid,x_train,y_train=(x_train[split:-1],y_train[split:-1],x_train[0:split],y_train[0:split])\n",
    "print(x_train.shape)\n",
    "print(y_train.shape)\n",
    "print(x_valid.shape)\n",
    "print(y_valid.shape)"
   ]
  },
  {
   "cell_type": "code",
   "execution_count": 305,
   "id": "b927a611",
   "metadata": {},
   "outputs": [],
   "source": [
    "model=nn.NeuralNetwork(3,[16,16,2],fr.total_words,'tanh')"
   ]
  },
  {
   "cell_type": "code",
   "execution_count": 306,
   "id": "0e3c4b0f",
   "metadata": {},
   "outputs": [],
   "source": [
    "nn.train?"
   ]
  },
  {
   "cell_type": "code",
   "execution_count": 307,
   "id": "ec8f4252",
   "metadata": {},
   "outputs": [
    {
     "ename": "MemoryError",
     "evalue": "Unable to allocate 10.1 GiB for an array with shape (12784, 105530) and data type float64",
     "output_type": "error",
     "traceback": [
      "\u001b[1;31m---------------------------------------------------------------------------\u001b[0m",
      "\u001b[1;31mMemoryError\u001b[0m                               Traceback (most recent call last)",
      "\u001b[1;32m~\\AppData\\Local\\Temp/ipykernel_9612/493019184.py\u001b[0m in \u001b[0;36m<module>\u001b[1;34m\u001b[0m\n\u001b[1;32m----> 1\u001b[1;33m \u001b[0mlosses\u001b[0m\u001b[1;33m=\u001b[0m\u001b[0mnn\u001b[0m\u001b[1;33m.\u001b[0m\u001b[0mtrain\u001b[0m\u001b[1;33m(\u001b[0m\u001b[0mmodel\u001b[0m\u001b[1;33m,\u001b[0m\u001b[0mx_train\u001b[0m\u001b[1;33m,\u001b[0m\u001b[0my_train\u001b[0m\u001b[1;33m.\u001b[0m\u001b[0mastype\u001b[0m\u001b[1;33m(\u001b[0m\u001b[1;34m'int64'\u001b[0m\u001b[1;33m)\u001b[0m\u001b[1;33m,\u001b[0m\u001b[1;36m500\u001b[0m\u001b[1;33m,\u001b[0m\u001b[1;36m0.01\u001b[0m\u001b[1;33m,\u001b[0m\u001b[1;32mFalse\u001b[0m\u001b[1;33m)\u001b[0m\u001b[1;33m\u001b[0m\u001b[1;33m\u001b[0m\u001b[0m\n\u001b[0m",
      "\u001b[1;32m~\\Desktop\\ML\\neural_networks\\neural_network.py\u001b[0m in \u001b[0;36mtrain\u001b[1;34m(model, X, y, epochs, learning_rate, logs)\u001b[0m\n\u001b[0;32m    198\u001b[0m     \"\"\"\n\u001b[0;32m    199\u001b[0m     \u001b[0mno_of_classes\u001b[0m\u001b[1;33m=\u001b[0m\u001b[0mmodel\u001b[0m\u001b[1;33m.\u001b[0m\u001b[0mno_of_classes\u001b[0m\u001b[1;33m\u001b[0m\u001b[1;33m\u001b[0m\u001b[0m\n\u001b[1;32m--> 200\u001b[1;33m     \u001b[0my_oht\u001b[0m\u001b[1;33m=\u001b[0m\u001b[0mconvert_to_oht\u001b[0m\u001b[1;33m(\u001b[0m\u001b[0my\u001b[0m\u001b[1;33m,\u001b[0m\u001b[0mno_of_classes\u001b[0m\u001b[1;33m)\u001b[0m\u001b[1;33m\u001b[0m\u001b[1;33m\u001b[0m\u001b[0m\n\u001b[0m\u001b[0;32m    201\u001b[0m     \u001b[1;32mif\u001b[0m\u001b[1;33m(\u001b[0m\u001b[0mlen\u001b[0m\u001b[1;33m(\u001b[0m\u001b[0margs\u001b[0m\u001b[1;33m)\u001b[0m\u001b[1;33m>\u001b[0m\u001b[1;36m1\u001b[0m\u001b[1;33m)\u001b[0m\u001b[1;33m:\u001b[0m\u001b[1;33m\u001b[0m\u001b[1;33m\u001b[0m\u001b[0m\n\u001b[0;32m    202\u001b[0m         \u001b[0my_oht_valid\u001b[0m\u001b[1;33m=\u001b[0m\u001b[0mconvert_to_oht\u001b[0m\u001b[1;33m(\u001b[0m\u001b[0margs\u001b[0m\u001b[1;33m[\u001b[0m\u001b[1;36m2\u001b[0m\u001b[1;33m]\u001b[0m\u001b[1;33m,\u001b[0m\u001b[0mno_of_classes\u001b[0m\u001b[1;33m)\u001b[0m\u001b[1;33m\u001b[0m\u001b[1;33m\u001b[0m\u001b[0m\n",
      "\u001b[1;32m~\\Desktop\\ML\\neural_networks\\neural_network.py\u001b[0m in \u001b[0;36mforward_propagation\u001b[1;34m(self, X)\u001b[0m\n\u001b[0;32m    103\u001b[0m         \u001b[0mprev_activation\u001b[0m\u001b[1;33m=\u001b[0m\u001b[0mX\u001b[0m\u001b[1;33m;\u001b[0m\u001b[1;33m\u001b[0m\u001b[1;33m\u001b[0m\u001b[0m\n\u001b[0;32m    104\u001b[0m         \u001b[1;32mfor\u001b[0m \u001b[0mi\u001b[0m \u001b[1;32min\u001b[0m \u001b[0mrange\u001b[0m\u001b[1;33m(\u001b[0m\u001b[0mn\u001b[0m\u001b[1;33m)\u001b[0m\u001b[1;33m:\u001b[0m\u001b[1;33m\u001b[0m\u001b[1;33m\u001b[0m\u001b[0m\n\u001b[1;32m--> 105\u001b[1;33m             \u001b[0mz\u001b[0m\u001b[1;33m=\u001b[0m\u001b[0mnp\u001b[0m\u001b[1;33m.\u001b[0m\u001b[0mdot\u001b[0m\u001b[1;33m(\u001b[0m\u001b[0mprev_activation\u001b[0m\u001b[1;33m,\u001b[0m\u001b[0mweights\u001b[0m\u001b[1;33m[\u001b[0m\u001b[0mi\u001b[0m\u001b[1;33m]\u001b[0m\u001b[1;33m)\u001b[0m\u001b[1;33m+\u001b[0m\u001b[0mbiases\u001b[0m\u001b[1;33m[\u001b[0m\u001b[0mi\u001b[0m\u001b[1;33m]\u001b[0m\u001b[1;33m\u001b[0m\u001b[1;33m\u001b[0m\u001b[0m\n\u001b[0m\u001b[0;32m    106\u001b[0m             \u001b[1;32mif\u001b[0m\u001b[1;33m(\u001b[0m\u001b[0mi\u001b[0m\u001b[1;33m<\u001b[0m\u001b[0mn\u001b[0m\u001b[1;33m-\u001b[0m\u001b[1;36m1\u001b[0m\u001b[1;33m)\u001b[0m\u001b[1;33m:\u001b[0m\u001b[1;33m\u001b[0m\u001b[1;33m\u001b[0m\u001b[0m\n\u001b[0;32m    107\u001b[0m                 \u001b[0ma\u001b[0m\u001b[1;33m=\u001b[0m\u001b[0mactivation_fun\u001b[0m\u001b[1;33m(\u001b[0m\u001b[0mz\u001b[0m\u001b[1;33m)\u001b[0m\u001b[1;33m\u001b[0m\u001b[1;33m\u001b[0m\u001b[0m\n",
      "\u001b[1;32m<__array_function__ internals>\u001b[0m in \u001b[0;36mdot\u001b[1;34m(*args, **kwargs)\u001b[0m\n",
      "\u001b[1;31mMemoryError\u001b[0m: Unable to allocate 10.1 GiB for an array with shape (12784, 105530) and data type float64"
     ]
    }
   ],
   "source": [
    "losses=nn.train(model,x_train,y_train.astype('int64'),500,0.01,False)"
   ]
  },
  {
   "cell_type": "code",
   "execution_count": 219,
   "id": "7b8bd2c7",
   "metadata": {},
   "outputs": [
    {
     "data": {
      "text/plain": [
       "[<matplotlib.lines.Line2D at 0x2b17fd18df0>]"
      ]
     },
     "execution_count": 219,
     "metadata": {},
     "output_type": "execute_result"
    },
    {
     "data": {
      "image/png": "[encoded data removed]",
      "text/plain": [
       "<Figure size 432x288 with 1 Axes>"
      ]
     },
     "metadata": {
      "needs_background": "light"
     },
     "output_type": "display_data"
    }
   ],
   "source": [
    "plt.plot(losses)"
   ]
  },
  {
   "cell_type": "code",
   "execution_count": null,
   "id": "b00fe624",
   "metadata": {},
   "outputs": [],
   "source": []
  }
 ],
 "metadata": {
  "kernelspec": {
   "display_name": "Python 3 (ipykernel)",
   "language": "python",
   "name": "python3"
  },
  "language_info": {
   "codemirror_mode": {
    "name": "ipython",
    "version": 3
   },
   "file_extension": ".py",
   "mimetype": "text/x-python",
   "name": "python",
   "nbconvert_exporter": "python",
   "pygments_lexer": "ipython3",
   "version": "3.9.6"
  }
 },
 "nbformat": 4,
 "nbformat_minor": 5
}
